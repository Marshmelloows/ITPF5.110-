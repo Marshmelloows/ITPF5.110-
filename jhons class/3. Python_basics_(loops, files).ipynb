{
 "cells": [
  {
   "cell_type": "markdown",
   "metadata": {},
   "source": [
    "## Basic Python program statements - part 3"
   ]
  },
  {
   "cell_type": "markdown",
   "metadata": {},
   "source": [
    "### The condition controlled loop\n",
    "\n",
    "[source](https://www.learnbyexample.org/python-while-loop/)\n",
    "\n",
    "Simple while loop"
   ]
  },
  {
   "cell_type": "code",
   "execution_count": null,
   "metadata": {},
   "outputs": [],
   "source": [
    "# loop counts down\n",
    "# 1st set the initial loop value\n",
    "tally:int = 6\n",
    "# 2nd test loop condition\n",
    "while tally > 0:\n",
    "    print(f\"{tally = }\")\n",
    "    # 3rd update loop value\n",
    "    tally -= 1\n",
    "\n",
    "print(\"-\"*20) # spacer\n",
    "\n",
    "# loop counts up\n",
    "tally = 0\n",
    "while tally < 10:\n",
    "    print(f\"{tally = }\")\n",
    "    tally += 1\n",
    "\n",
    "print(\"-\"*20) # spacer\n",
    "\n",
    "# condition is false from the start\n",
    "tally = 0\n",
    "while tally:\n",
    "    print(f\"{tally = }\")\n",
    "    tally -= 1"
   ]
  },
  {
   "cell_type": "markdown",
   "metadata": {},
   "source": [
    "Looping through a string"
   ]
  },
  {
   "cell_type": "code",
   "execution_count": null,
   "metadata": {},
   "outputs": [],
   "source": [
    "message = \"Python is fun\"\n",
    "\n",
    "while message:\n",
    "    print(f\"{message = }\")\n",
    "    message = message[1:] # slice the message from the front\n",
    "\n",
    "\n",
    "message = \"Python is fun\"\n",
    "while message:\n",
    "    print(f\"{message = }\")\n",
    "    message = message[:-1] # slice the message from the end"
   ]
  },
  {
   "cell_type": "markdown",
   "metadata": {},
   "source": [
    "Interrupting a loop\n",
    "\n",
    "- [Break source](https://www.learnbyexample.org/python-break-statement/)\n",
    "- [continue source](https://www.learnbyexample.org/python-continue-statement/)"
   ]
  },
  {
   "cell_type": "code",
   "execution_count": null,
   "metadata": {},
   "outputs": [],
   "source": [
    "tally = 0\n",
    "while tally < 10:    \n",
    "    print(f\"before {tally = }\")\n",
    "\n",
    "    tally += 1\n",
    "    if tally == 5:\n",
    "        break\n",
    "    print(f\"after {tally = }\")\n",
    "\n",
    "\n",
    "print(\"-\"*20) # spacer\n",
    "tally = 0\n",
    "while tally < 10:    \n",
    "    print(f\"before {tally = }\")  \n",
    "    tally += 1\n",
    "    \n",
    "    if tally % 2 != 0: # skip over odd numbers\n",
    "        continue    \n",
    "    \n",
    "    print(f\"after {tally = }\")    "
   ]
  },
  {
   "cell_type": "markdown",
   "metadata": {},
   "source": [
    "Other uses of while"
   ]
  },
  {
   "cell_type": "code",
   "execution_count": null,
   "metadata": {},
   "outputs": [],
   "source": [
    "# condition is false from the start\n",
    "tally = 0\n",
    "while tally:    \n",
    "    tally += 1\n",
    "    print(f\"{tally = }\")\n",
    "else:\n",
    "    print(\"Done\")    \n",
    "\n",
    "print(\"-\"*20) # spacer\n",
    "# condition is false from the start\n",
    "tally = 10\n",
    "while tally:    \n",
    "    tally -= 1\n",
    "    print(f\"{tally = }\")\n",
    "else:\n",
    "    print(\"Done\")        \n",
    "\n",
    "\"\"\"\n",
    "# forever loop\n",
    "while True:    \n",
    "    print(\"This never ends\")\n",
    "\n",
    "\"\"\"\n",
    "print(\"-\"*20) # spacer\n",
    "# loops until user enters sentinel value - Q\n",
    "while True:\n",
    "    value = input('Enter in a whole number, or Q to stop:')\n",
    "    if value.upper == 'Q': break\n",
    "    print(f\"Number {value}\")"
   ]
  },
  {
   "cell_type": "markdown",
   "metadata": {},
   "source": [
    "### The for loop\n",
    "\n",
    "[Source](https://www.learnbyexample.org/python-for-loop/)"
   ]
  },
  {
   "cell_type": "code",
   "execution_count": null,
   "metadata": {},
   "outputs": [],
   "source": [
    "# loop from 0 to 4\n",
    "for i in range(5):\n",
    "    print(f\"ndx {i}\")\n",
    "\n",
    "print(\"-\"*20) # spacer\n",
    "\n",
    "# loop from 2 to 5\n",
    "for i in range(2,6):\n",
    "    print(f\"ndx {i}\")    \n",
    "\n",
    "print(\"-\"*20) # spacer\n",
    "\n",
    "# loop from 2 to 9 adding 2 to the counter\n",
    "for i in range(2,10,2): # steps ever\n",
    "    print(f\"ndx {i}\")    \n",
    "\n",
    "# can we modify the loop variable?\n",
    "#....no, we can only use it\n",
    "for i in range(6):\n",
    "    i += 10\n",
    "    print(f\"{i =}\")        "
   ]
  },
  {
   "cell_type": "markdown",
   "metadata": {},
   "source": [
    "Interrupting for loops\n",
    "- [Break source](https://www.learnbyexample.org/python-break-statement/)\n",
    "- [continue source](https://www.learnbyexample.org/python-continue-statement/)"
   ]
  },
  {
   "cell_type": "code",
   "execution_count": null,
   "metadata": {},
   "outputs": [],
   "source": [
    "for i in range(10):    \n",
    "    print(f\"before {i = }\")\n",
    "    if i == 5:\n",
    "        break\n",
    "    print(f\"after {i = }\")    \n",
    "\n",
    "print(\"-\"*20) # spacer\n",
    "\n",
    "for i in range(10):\n",
    "    print(f\"before {i = }\")\n",
    "    if i % 2 != 0: # skip over odd numbers\n",
    "        continue    \n",
    "    \n",
    "    print(f\"after {i = }\")"
   ]
  },
  {
   "cell_type": "markdown",
   "metadata": {},
   "source": [
    "Other for loops"
   ]
  },
  {
   "cell_type": "code",
   "execution_count": null,
   "metadata": {},
   "outputs": [],
   "source": [
    "message = \"Python \" # trailing space included - why?\n",
    "\n",
    "# loop through a string\n",
    "for c in message:\n",
    "    print(f\"ndx {c}\")\n",
    "\n",
    "# loop through a string\n",
    "for k,v in enumerate(message):\n",
    "    print(f\"{k} {v}\")\n",
    "\n",
    "print(\"-\"*20) # spacer\n",
    "\n",
    "for c in message:\n",
    "    print(f\"{c =}\")\n",
    "else:\n",
    "    print(\"Done!\")    \n",
    "\n",
    "print(\"-\"*20) # spacer\n",
    "\n",
    "for i in range(10):    \n",
    "    print(f\"{i = }\")\n",
    "    if i == 3:\n",
    "        break # loop is broken - does not execute the else\n",
    "else:\n",
    "    print(\"Done!\")            "
   ]
  },
  {
   "cell_type": "markdown",
   "metadata": {},
   "source": [
    "### Basic user defined Python functions\n",
    "[source](https://www.learnbyexample.org/python-functions/)"
   ]
  },
  {
   "cell_type": "code",
   "execution_count": null,
   "metadata": {},
   "outputs": [],
   "source": [
    "def show():\n",
    "    print(\"This is a function\")\n",
    "\n",
    "def show2(firstname:str,lastname:str,age:int):\n",
    "    print(f\"My name is {firstname} {lastname}, and my age is {age}\")\n",
    "\n",
    "def show3(a:int):\n",
    "    return a * a * a\n",
    "    \n",
    "for i in range(5):\n",
    "    show()   \n",
    "\n",
    "print(\"-\"*20) # spacer\n",
    "\n",
    "show2('Joe','Bloggs',45)    \n",
    "\n",
    "print(\"-\"*20) # spacer\n",
    "\n",
    "for i in range(5):\n",
    "    v = show3(i)    \n",
    "    print(f\"Returned from the function {v}\")\n",
    "\n",
    "print(\"-\"*20) # spacer\n",
    "\n",
    "for i in range(5):       \n",
    "    print(f\"Returned from the function {show3(i)}\")    \n",
    "\n",
    "for i in range(5):       \n",
    "    v = show3(show3(i))    \n",
    "    print(f\"Returned from the function {v}\")        "
   ]
  },
  {
   "cell_type": "markdown",
   "metadata": {},
   "source": [
    "### BONUS: file operations\n",
    "[source](https://www.learnbyexample.org/python-file-handling/)"
   ]
  },
  {
   "cell_type": "code",
   "execution_count": null,
   "metadata": {},
   "outputs": [],
   "source": [
    "# write a ver long string/variable to a file\n",
    "msg = \"\"\"100% of useful software uses data, therefore programming is all about data\n",
    "    - statements\n",
    "    - expressions\n",
    "    - about variables\n",
    "        - types (simple (numbers,float, string), list, tuple, dict(tionary), set)\n",
    "    - conditional statements (if, if...else..., if...elif...)\n",
    "    - repetitive statements (while,for)\n",
    "    - reusing statements (def)\n",
    "\"\"\"\n",
    "\n",
    "f = open('myfile.txt', 'w') # <- create a new file, overwrite if it exists\n",
    "f.write(msg)\n",
    "f.flush()\n",
    "f.close()"
   ]
  },
  {
   "cell_type": "code",
   "execution_count": null,
   "metadata": {},
   "outputs": [],
   "source": [
    "# open and read the whole file\n",
    "f = open('myfile.txt')\n",
    "print(f.read())\n",
    "f.close()"
   ]
  },
  {
   "cell_type": "code",
   "execution_count": null,
   "metadata": {},
   "outputs": [],
   "source": [
    "# open a file and read 10 bytes of the file\n",
    "f = open('myfile.txt')\n",
    "print(f.read(10))\n",
    "f.close()"
   ]
  },
  {
   "cell_type": "code",
   "execution_count": null,
   "metadata": {},
   "outputs": [],
   "source": [
    "# open a file and read 1 line from the file\n",
    "f = open('myfile.txt')\n",
    "print(f.readline())\n",
    "print(f.readline())\n",
    "f.close()"
   ]
  },
  {
   "cell_type": "code",
   "execution_count": null,
   "metadata": {},
   "outputs": [],
   "source": [
    "# open a file and read 1 line at a time using a loop\n",
    "f = open('myfile.txt')\n",
    "for line in f:\n",
    "    print(line,end=\"\")\n",
    "f.close()    "
   ]
  },
  {
   "cell_type": "code",
   "execution_count": null,
   "metadata": {},
   "outputs": [],
   "source": [
    "# write a string/variable to a file\n",
    "msg = \"\"\" \n",
    "    Python is the greatest language to program in! \n",
    "    - anonymous\n",
    "    \"\"\"\n",
    "f = open('myfile.txt', 'a') # <- append\n",
    "f.write(msg)\n",
    "f.close()\n",
    "\n",
    "# read and display the file\n",
    "f = open('myfile.txt')\n",
    "for line in f:\n",
    "    print(line,end=\"\")\n",
    "f.close()    "
   ]
  },
  {
   "cell_type": "code",
   "execution_count": null,
   "metadata": {},
   "outputs": [],
   "source": [
    "# open and read the whole file\n",
    "f = open('myfile.txt')\n",
    "data = f.read()\n",
    "print(data)\n",
    "\n",
    "# write to a file\n",
    "g = open('ditto.txt', 'w')\n",
    "g.write(data)\n",
    "g.flush()\n",
    "g.close()\n",
    "f.close()\n",
    "\n",
    "# read and display the file\n",
    "h = open('ditto.txt')\n",
    "for line in h:\n",
    "    print(line,end=\"\")\n",
    "h.close()    "
   ]
  },
  {
   "cell_type": "code",
   "execution_count": null,
   "metadata": {},
   "outputs": [],
   "source": [
    "# remove a file\n",
    "import os\n",
    "\n",
    "if os.path.isfile('myfile.txt'):\n",
    "\tos.remove('myfile.txt')\n",
    "\tprint('The file,myfile.txt, has been removed.')\t\n",
    "else:\n",
    "\tprint('The file,myfile.txt, does not exist.')\t\n",
    "\n",
    "\n",
    "if os.path.isfile('ditto.txt'):\n",
    "\tos.remove('ditto.txt')\n",
    "\tprint('The file,ditto.txt, has been removed.')\t\t\n",
    "else:\n",
    "\tprint('The file,ditto.txt, does not exist.')\t\n"
   ]
  },
  {
   "cell_type": "markdown",
   "metadata": {},
   "source": [
    "**Activity 3**\n",
    "\n",
    "Problem\n",
    "  - Ask the user for three numbers between 0 and 100 then determine the average and grade."
   ]
  },
  {
   "cell_type": "code",
   "execution_count": null,
   "metadata": {},
   "outputs": [],
   "source": [
    "import re \n",
    "\"\"\"\n",
    "    string != number\n",
    "    \"10\" looks like 10\n",
    "    \"10\" is not equal to 10\n",
    "\n",
    "    if a string contains only numbers, python will try and convert it to a number \n",
    "    but this does not work for floats!\n",
    "\"\"\"\n",
    "mark:float = 0\n",
    "average:float = 0\n",
    "sum:float = 0\n",
    "\n",
    "# using exceptions to test if the value v is only a floating point/decimal number\n",
    "def isfloat(v):\n",
    "    try:\n",
    "      float(v)\n",
    "      return True\n",
    "    except ValueError:\n",
    "      return False\n",
    "\n",
    "# replace dot with digit method\n",
    "def isfloat2(v):\n",
    "    return v.replace('.','',1).isdigit()\n",
    "\n",
    "# advanced version of isfloat but very slow\n",
    "# visit https://regexr.com/ to test the regular expression below\n",
    "def isfloat3(v):\n",
    "    pattern = r\"[-+]?(\\d+(\\.\\d*)?|\\.\\d+)([eE][-+]?\\d+)?\"\n",
    "    match = re.match(pattern, v)\n",
    "    return bool(match)\n",
    "\n",
    "# prompt the user for grades or to press Q to quit\n",
    "\n",
    "m: str = input(\"Enter mark for the assessment, or Q to quit (e.g. 55.5): \")\n",
    "\n",
    "if isfloat(m):\n",
    "    mark = int(m)    \n",
    "else:\n",
    "    print(f\"Inputs {m} can only be numbers\")    \n",
    "    \n",
    "\n",
    "if mark > 0 and mark < 100:\n",
    "    pass\n",
    "    #average: float = (mark1 + mark2 + mark3) / 3\n",
    "else:\n",
    "    print(f\"Mark {m} must be within the range 0 - 100\")\n",
    "\n",
    "grade: str = 'N'\n",
    "if average > 80:  # 81-100\n",
    "    grade = 'A'\n",
    "elif average > 70:  # 71 - 80\n",
    "    grade = 'B'\n",
    "elif average > 60:  # 61 - 70\n",
    "    grade = 'C'\n",
    "elif average > 50:  # 51 - 60\n",
    "    grade = 'D'\n",
    "elif average <= 50:  # 0- 50\n",
    "    grade = 'N'\n",
    "\n",
    "print(f\"The average {average:.2f}% and the grade is {grade}\")\n"
   ]
  },
  {
   "cell_type": "markdown",
   "metadata": {},
   "source": [
    "**In class exercise**\n",
    "- Create three variables - a,b,c\n",
    "- Assign an integer of your choosing to each variable\n",
    "- create an expression y \n",
    "\tby adding a and b then \n",
    "\tmultiplying them by c then \n",
    "\tdividing by 2\n",
    "- determine if y is greater than the sum of a,b and c\n",
    "- if the previous statement is true, provide a suitable message\n",
    "  otherwise test if y is less than the sum of a,b & c divided by 2"
   ]
  },
  {
   "cell_type": "code",
   "execution_count": null,
   "metadata": {},
   "outputs": [],
   "source": [
    "a:int = 5\n",
    "b:int = 6\n",
    "c:int = 15\n",
    "\n",
    "y:float = (a + b) * c / 2\n",
    "\n",
    "print(f\"{(a + b) * c / 2 = }\")\n",
    "print(f\"{a + b * c / 2 = }\")\n",
    "print(f\"{((a + b) * c) / 2 = }\")\n",
    "\n",
    "if y > a+b+c:\n",
    "    print(f\"1. {y} is > {a+b+c}\")\n",
    "elif  y < (a + b + c) /2:\n",
    "    print(f\"2. {y} is > {(a+b+c)/2}\")\n",
    "else:    \n",
    "    print(f\"3. {y} is < {(a+b+c)/2}\")"
   ]
  },
  {
   "cell_type": "markdown",
   "metadata": {},
   "source": [
    "**Activity 2**\n",
    "\n",
    "Take the Simple Loan Calcualtor example from the \"Python basics part 2\" activity and perfrom the following updates:\n",
    "\n",
    "- add data validation for the values provided by the user\n",
    "- create suitable functions for some of the repeated code\n",
    "- include logic to allow the user to redo the calculation with new values (loop)"
   ]
  }
 ],
 "metadata": {
  "kernelspec": {
   "display_name": "Python 3",
   "language": "python",
   "name": "python3"
  },
  "language_info": {
   "codemirror_mode": {
    "name": "ipython",
    "version": 3
   },
   "file_extension": ".py",
   "mimetype": "text/x-python",
   "name": "python",
   "nbconvert_exporter": "python",
   "pygments_lexer": "ipython3",
   "version": "3.12.10"
  }
 },
 "nbformat": 4,
 "nbformat_minor": 2
}
